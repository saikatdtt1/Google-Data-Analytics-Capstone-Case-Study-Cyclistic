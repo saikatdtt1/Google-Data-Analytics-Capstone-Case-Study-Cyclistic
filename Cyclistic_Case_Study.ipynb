{
 "cells": [
  {
   "cell_type": "code",
   "execution_count": 6,
   "id": "451350a9-b00e-48d7-8f9c-79ca9b81fd23",
   "metadata": {},
   "outputs": [],
   "source": [
    "import pandas as pd\n",
    "import seaborn as sns\n",
    "import matplotlib.pyplot as plt\n",
    "import numpy as np\n",
    "from matplotlib import style"
   ]
  },
  {
   "cell_type": "code",
   "execution_count": 7,
   "id": "78cfb4b8-b6b3-45b1-b70d-6deb292e19bd",
   "metadata": {},
   "outputs": [],
   "source": [
    "#combine all files\n",
    "\n",
    "file_list = [r'C:\\Users\\Saikat\\Desktop\\BA Project\\Cyclistic\\Jan 2023/202301-divvy-tripdata.csv',\n",
    "            r'C:\\Users\\Saikat\\Desktop\\BA Project\\Cyclistic\\Feb 2023/202302-divvy-tripdata.csv',\n",
    "            r'C:\\Users\\Saikat\\Desktop\\BA Project\\Cyclistic\\March 2023/202303-divvy-tripdata.csv',\n",
    "            r'C:\\Users\\Saikat\\Desktop\\BA Project\\Cyclistic\\April 2023/202304-divvy-tripdata.csv',\n",
    "            r'C:\\Users\\Saikat\\Desktop\\BA Project\\Cyclistic\\May 2023/202305-divvy-tripdata.csv',\n",
    "            r'C:\\Users\\Saikat\\Desktop\\BA Project\\Cyclistic\\June 2023/202306-divvy-tripdata.csv',\n",
    "            r'C:\\Users\\Saikat\\Desktop\\BA Project\\Cyclistic\\July 2023/202307-divvy-tripdata.csv',\n",
    "            r'C:\\Users\\Saikat\\Desktop\\BA Project\\Cyclistic\\Aug 2023/202308-divvy-tripdata.csv',\n",
    "            r'C:\\Users\\Saikat\\Desktop\\BA Project\\Cyclistic\\Sep 2023/202309-divvy-tripdata.csv',\n",
    "            r'C:\\Users\\Saikat\\Desktop\\BA Project\\Cyclistic\\Oct 2023/202310-divvy-tripdata.csv',\n",
    "            r'C:\\Users\\Saikat\\Desktop\\BA Project\\Cyclistic\\Nov 2023/202311-divvy-tripdata.csv',\n",
    "            r'C:\\Users\\Saikat\\Desktop\\BA Project\\Cyclistic\\Dec 2023/202312-divvy-tripdata.csv']"
   ]
  },
  {
   "cell_type": "code",
   "execution_count": 8,
   "id": "682f80ff-439e-4869-8b1a-d86367d913de",
   "metadata": {},
   "outputs": [],
   "source": [
    "#Combime all files into a single file\n",
    "\n",
    "files = pd.DataFrame()\n",
    "for file in file_list:\n",
    "    current = pd.read_csv(file)\n",
    "    files = pd.concat([files, current], ignore_index = True)"
   ]
  },
  {
   "cell_type": "code",
   "execution_count": 10,
   "id": "a0f4500c-700d-45b4-af79-d1e2087e2e48",
   "metadata": {},
   "outputs": [
    {
     "name": "stdout",
     "output_type": "stream",
     "text": [
      "<class 'pandas.core.frame.DataFrame'>\n",
      "RangeIndex: 5719877 entries, 0 to 5719876\n",
      "Data columns (total 13 columns):\n",
      " #   Column              Dtype  \n",
      "---  ------              -----  \n",
      " 0   ride_id             object \n",
      " 1   rideable_type       object \n",
      " 2   started_at          object \n",
      " 3   ended_at            object \n",
      " 4   start_station_name  object \n",
      " 5   start_station_id    object \n",
      " 6   end_station_name    object \n",
      " 7   end_station_id      object \n",
      " 8   start_lat           float64\n",
      " 9   start_lng           float64\n",
      " 10  end_lat             float64\n",
      " 11  end_lng             float64\n",
      " 12  member_casual       object \n",
      "dtypes: float64(4), object(9)\n",
      "memory usage: 567.3+ MB\n"
     ]
    }
   ],
   "source": [
    "#counting total entries\n",
    "files.info()"
   ]
  },
  {
   "cell_type": "code",
   "execution_count": 11,
   "id": "b6e98c9d-9bf6-4e4d-91ba-9ed0870d0fab",
   "metadata": {},
   "outputs": [
    {
     "data": {
      "text/plain": [
       "ride_id                object\n",
       "rideable_type          object\n",
       "started_at             object\n",
       "ended_at               object\n",
       "start_station_name     object\n",
       "start_station_id       object\n",
       "end_station_name       object\n",
       "end_station_id         object\n",
       "start_lat             float64\n",
       "start_lng             float64\n",
       "end_lat               float64\n",
       "end_lng               float64\n",
       "member_casual          object\n",
       "dtype: object"
      ]
     },
     "execution_count": 11,
     "metadata": {},
     "output_type": "execute_result"
    }
   ],
   "source": [
    "#checking data types of each row\n",
    "files.dtypes"
   ]
  },
  {
   "cell_type": "code",
   "execution_count": 12,
   "id": "77b3e5da-4c0f-46d5-a435-26d5d3f20965",
   "metadata": {},
   "outputs": [
    {
     "data": {
      "text/plain": [
       "ride_id                       object\n",
       "rideable_type                 object\n",
       "started_at            datetime64[ns]\n",
       "ended_at              datetime64[ns]\n",
       "start_station_name            object\n",
       "start_station_id              object\n",
       "end_station_name              object\n",
       "end_station_id                object\n",
       "start_lat                    float64\n",
       "start_lng                    float64\n",
       "end_lat                      float64\n",
       "end_lng                      float64\n",
       "member_casual                 object\n",
       "dtype: object"
      ]
     },
     "execution_count": 12,
     "metadata": {},
     "output_type": "execute_result"
    }
   ],
   "source": [
    "#converting objects to datetime\n",
    "files['started_at'] = pd.to_datetime(files['started_at'])\n",
    "files['ended_at'] = pd.to_datetime(files['ended_at'])\n",
    "files.dtypes"
   ]
  },
  {
   "cell_type": "code",
   "execution_count": 16,
   "id": "bd01d2f8-9c90-4335-aade-d2fc7cf67db2",
   "metadata": {},
   "outputs": [
    {
     "data": {
      "text/html": [
       "<div>\n",
       "<style scoped>\n",
       "    .dataframe tbody tr th:only-of-type {\n",
       "        vertical-align: middle;\n",
       "    }\n",
       "\n",
       "    .dataframe tbody tr th {\n",
       "        vertical-align: top;\n",
       "    }\n",
       "\n",
       "    .dataframe thead th {\n",
       "        text-align: right;\n",
       "    }\n",
       "</style>\n",
       "<table border=\"1\" class=\"dataframe\">\n",
       "  <thead>\n",
       "    <tr style=\"text-align: right;\">\n",
       "      <th></th>\n",
       "      <th>ride_id</th>\n",
       "      <th>rideable_type</th>\n",
       "      <th>started_at</th>\n",
       "      <th>ended_at</th>\n",
       "      <th>start_station_name</th>\n",
       "      <th>start_station_id</th>\n",
       "      <th>end_station_name</th>\n",
       "      <th>end_station_id</th>\n",
       "      <th>start_lat</th>\n",
       "      <th>start_lng</th>\n",
       "      <th>end_lat</th>\n",
       "      <th>end_lng</th>\n",
       "      <th>member_casual</th>\n",
       "    </tr>\n",
       "  </thead>\n",
       "  <tbody>\n",
       "  </tbody>\n",
       "</table>\n",
       "</div>"
      ],
      "text/plain": [
       "Empty DataFrame\n",
       "Columns: [ride_id, rideable_type, started_at, ended_at, start_station_name, start_station_id, end_station_name, end_station_id, start_lat, start_lng, end_lat, end_lng, member_casual]\n",
       "Index: []"
      ]
     },
     "execution_count": 16,
     "metadata": {},
     "output_type": "execute_result"
    }
   ],
   "source": [
    "#checking duplicate rides\n",
    "files[files['ride_id'].duplicated()]"
   ]
  },
  {
   "cell_type": "code",
   "execution_count": 22,
   "id": "35861a70-abc3-4d0b-b49a-6b2741b12781",
   "metadata": {},
   "outputs": [
    {
     "data": {
      "text/plain": [
       "ride_id               5719877\n",
       "rideable_type               3\n",
       "started_at            4823909\n",
       "ended_at              4835702\n",
       "start_station_name       1592\n",
       "start_station_id         1516\n",
       "end_station_name         1597\n",
       "end_station_id           1520\n",
       "start_lat              789702\n",
       "start_lng              748738\n",
       "end_lat                 13884\n",
       "end_lng                 14002\n",
       "member_casual               2\n",
       "dtype: int64"
      ]
     },
     "execution_count": 22,
     "metadata": {},
     "output_type": "execute_result"
    }
   ],
   "source": [
    "#checking unique rides and assign then with their types to reduce memory consumption\n",
    "files.nunique()"
   ]
  },
  {
   "cell_type": "code",
   "execution_count": 23,
   "id": "f3fb9f8f-c096-4e7a-95f0-5192d325d318",
   "metadata": {},
   "outputs": [
    {
     "name": "stdout",
     "output_type": "stream",
     "text": [
      "<class 'pandas.core.frame.DataFrame'>\n",
      "RangeIndex: 5719877 entries, 0 to 5719876\n",
      "Data columns (total 13 columns):\n",
      " #   Column              Dtype         \n",
      "---  ------              -----         \n",
      " 0   ride_id             object        \n",
      " 1   rideable_type       category      \n",
      " 2   started_at          datetime64[ns]\n",
      " 3   ended_at            datetime64[ns]\n",
      " 4   start_station_name  category      \n",
      " 5   start_station_id    category      \n",
      " 6   end_station_name    category      \n",
      " 7   end_station_id      category      \n",
      " 8   start_lat           float64       \n",
      " 9   start_lng           float64       \n",
      " 10  end_lat             float64       \n",
      " 11  end_lng             float64       \n",
      " 12  member_casual       category      \n",
      "dtypes: category(6), datetime64[ns](2), float64(4), object(1)\n",
      "memory usage: 360.3+ MB\n"
     ]
    }
   ],
   "source": [
    "files['rideable_type'] = files['rideable_type'].astype('category')\n",
    "files['start_station_name'] = files['start_station_name'].astype('category')\n",
    "files['start_station_id'] = files['start_station_id'].astype('category')\n",
    "files['end_station_name'] = files['end_station_name'].astype('category')\n",
    "files['end_station_id'] = files['end_station_id'].astype('category')\n",
    "files['member_casual'] = files['member_casual'].astype('category')\n",
    "files.info()"
   ]
  },
  {
   "cell_type": "code",
   "execution_count": 25,
   "id": "9a1d433c-a002-4e58-82a2-3b3472ba2b5b",
   "metadata": {},
   "outputs": [
    {
     "data": {
      "text/plain": [
       "ride_id                    0\n",
       "rideable_type              0\n",
       "started_at                 0\n",
       "ended_at                   0\n",
       "start_station_name    875716\n",
       "start_station_id      875848\n",
       "end_station_name      929202\n",
       "end_station_id        929343\n",
       "start_lat                  0\n",
       "start_lng                  0\n",
       "end_lat                 6990\n",
       "end_lng                 6990\n",
       "member_casual              0\n",
       "dtype: int64"
      ]
     },
     "execution_count": 25,
     "metadata": {},
     "output_type": "execute_result"
    }
   ],
   "source": [
    "#checking null values\n",
    "files.isnull().sum()"
   ]
  },
  {
   "cell_type": "code",
   "execution_count": 36,
   "id": "f7b7a89c-3f9d-49fa-b25a-e8284002e1b7",
   "metadata": {},
   "outputs": [
    {
     "data": {
      "text/html": [
       "<div>\n",
       "<style scoped>\n",
       "    .dataframe tbody tr th:only-of-type {\n",
       "        vertical-align: middle;\n",
       "    }\n",
       "\n",
       "    .dataframe tbody tr th {\n",
       "        vertical-align: top;\n",
       "    }\n",
       "\n",
       "    .dataframe thead th {\n",
       "        text-align: right;\n",
       "    }\n",
       "</style>\n",
       "<table border=\"1\" class=\"dataframe\">\n",
       "  <thead>\n",
       "    <tr style=\"text-align: right;\">\n",
       "      <th></th>\n",
       "      <th>ride_id</th>\n",
       "      <th>rideable_type</th>\n",
       "      <th>started_at</th>\n",
       "      <th>ended_at</th>\n",
       "      <th>member_casual</th>\n",
       "    </tr>\n",
       "  </thead>\n",
       "  <tbody>\n",
       "    <tr>\n",
       "      <th>0</th>\n",
       "      <td>F96D5A74A3E41399</td>\n",
       "      <td>electric_bike</td>\n",
       "      <td>2023-01-21 20:05:42</td>\n",
       "      <td>2023-01-21 20:16:33</td>\n",
       "      <td>member</td>\n",
       "    </tr>\n",
       "    <tr>\n",
       "      <th>1</th>\n",
       "      <td>13CB7EB698CEDB88</td>\n",
       "      <td>classic_bike</td>\n",
       "      <td>2023-01-10 15:37:36</td>\n",
       "      <td>2023-01-10 15:46:05</td>\n",
       "      <td>member</td>\n",
       "    </tr>\n",
       "    <tr>\n",
       "      <th>2</th>\n",
       "      <td>BD88A2E670661CE5</td>\n",
       "      <td>electric_bike</td>\n",
       "      <td>2023-01-02 07:51:57</td>\n",
       "      <td>2023-01-02 08:05:11</td>\n",
       "      <td>casual</td>\n",
       "    </tr>\n",
       "    <tr>\n",
       "      <th>3</th>\n",
       "      <td>C90792D034FED968</td>\n",
       "      <td>classic_bike</td>\n",
       "      <td>2023-01-22 10:52:58</td>\n",
       "      <td>2023-01-22 11:01:44</td>\n",
       "      <td>member</td>\n",
       "    </tr>\n",
       "    <tr>\n",
       "      <th>4</th>\n",
       "      <td>3397017529188E8A</td>\n",
       "      <td>classic_bike</td>\n",
       "      <td>2023-01-12 13:58:01</td>\n",
       "      <td>2023-01-12 14:13:20</td>\n",
       "      <td>member</td>\n",
       "    </tr>\n",
       "  </tbody>\n",
       "</table>\n",
       "</div>"
      ],
      "text/plain": [
       "            ride_id  rideable_type          started_at            ended_at  \\\n",
       "0  F96D5A74A3E41399  electric_bike 2023-01-21 20:05:42 2023-01-21 20:16:33   \n",
       "1  13CB7EB698CEDB88   classic_bike 2023-01-10 15:37:36 2023-01-10 15:46:05   \n",
       "2  BD88A2E670661CE5  electric_bike 2023-01-02 07:51:57 2023-01-02 08:05:11   \n",
       "3  C90792D034FED968   classic_bike 2023-01-22 10:52:58 2023-01-22 11:01:44   \n",
       "4  3397017529188E8A   classic_bike 2023-01-12 13:58:01 2023-01-12 14:13:20   \n",
       "\n",
       "  member_casual  \n",
       "0        member  \n",
       "1        member  \n",
       "2        casual  \n",
       "3        member  \n",
       "4        member  "
      ]
     },
     "execution_count": 36,
     "metadata": {},
     "output_type": "execute_result"
    }
   ],
   "source": [
    "data = files[['ride_id','rideable_type', 'started_at', 'ended_at', 'member_casual']]\n",
    "data.head()"
   ]
  },
  {
   "cell_type": "code",
   "execution_count": 38,
   "id": "3fdd422c-8189-402c-90c4-7bfb40704269",
   "metadata": {},
   "outputs": [
    {
     "name": "stderr",
     "output_type": "stream",
     "text": [
      "C:\\Users\\Saikat\\AppData\\Local\\Temp\\ipykernel_6308\\963736444.py:2: SettingWithCopyWarning: \n",
      "A value is trying to be set on a copy of a slice from a DataFrame\n",
      "\n",
      "See the caveats in the documentation: https://pandas.pydata.org/pandas-docs/stable/user_guide/indexing.html#returning-a-view-versus-a-copy\n",
      "  stations.dropna(inplace = True)\n"
     ]
    },
    {
     "data": {
      "text/html": [
       "<div>\n",
       "<style scoped>\n",
       "    .dataframe tbody tr th:only-of-type {\n",
       "        vertical-align: middle;\n",
       "    }\n",
       "\n",
       "    .dataframe tbody tr th {\n",
       "        vertical-align: top;\n",
       "    }\n",
       "\n",
       "    .dataframe thead th {\n",
       "        text-align: right;\n",
       "    }\n",
       "</style>\n",
       "<table border=\"1\" class=\"dataframe\">\n",
       "  <thead>\n",
       "    <tr style=\"text-align: right;\">\n",
       "      <th></th>\n",
       "      <th>ride_id</th>\n",
       "      <th>start_station_name</th>\n",
       "      <th>start_station_id</th>\n",
       "      <th>end_station_name</th>\n",
       "      <th>end_station_id</th>\n",
       "    </tr>\n",
       "  </thead>\n",
       "  <tbody>\n",
       "    <tr>\n",
       "      <th>0</th>\n",
       "      <td>F96D5A74A3E41399</td>\n",
       "      <td>Lincoln Ave &amp; Fullerton Ave</td>\n",
       "      <td>TA1309000058</td>\n",
       "      <td>Hampden Ct &amp; Diversey Ave</td>\n",
       "      <td>202480.0</td>\n",
       "    </tr>\n",
       "    <tr>\n",
       "      <th>1</th>\n",
       "      <td>13CB7EB698CEDB88</td>\n",
       "      <td>Kimbark Ave &amp; 53rd St</td>\n",
       "      <td>TA1309000037</td>\n",
       "      <td>Greenwood Ave &amp; 47th St</td>\n",
       "      <td>TA1308000002</td>\n",
       "    </tr>\n",
       "    <tr>\n",
       "      <th>2</th>\n",
       "      <td>BD88A2E670661CE5</td>\n",
       "      <td>Western Ave &amp; Lunt Ave</td>\n",
       "      <td>RP-005</td>\n",
       "      <td>Valli Produce - Evanston Plaza</td>\n",
       "      <td>599</td>\n",
       "    </tr>\n",
       "    <tr>\n",
       "      <th>3</th>\n",
       "      <td>C90792D034FED968</td>\n",
       "      <td>Kimbark Ave &amp; 53rd St</td>\n",
       "      <td>TA1309000037</td>\n",
       "      <td>Greenwood Ave &amp; 47th St</td>\n",
       "      <td>TA1308000002</td>\n",
       "    </tr>\n",
       "    <tr>\n",
       "      <th>4</th>\n",
       "      <td>3397017529188E8A</td>\n",
       "      <td>Kimbark Ave &amp; 53rd St</td>\n",
       "      <td>TA1309000037</td>\n",
       "      <td>Greenwood Ave &amp; 47th St</td>\n",
       "      <td>TA1308000002</td>\n",
       "    </tr>\n",
       "  </tbody>\n",
       "</table>\n",
       "</div>"
      ],
      "text/plain": [
       "            ride_id           start_station_name start_station_id  \\\n",
       "0  F96D5A74A3E41399  Lincoln Ave & Fullerton Ave     TA1309000058   \n",
       "1  13CB7EB698CEDB88        Kimbark Ave & 53rd St     TA1309000037   \n",
       "2  BD88A2E670661CE5       Western Ave & Lunt Ave           RP-005   \n",
       "3  C90792D034FED968        Kimbark Ave & 53rd St     TA1309000037   \n",
       "4  3397017529188E8A        Kimbark Ave & 53rd St     TA1309000037   \n",
       "\n",
       "                 end_station_name end_station_id  \n",
       "0       Hampden Ct & Diversey Ave       202480.0  \n",
       "1         Greenwood Ave & 47th St   TA1308000002  \n",
       "2  Valli Produce - Evanston Plaza            599  \n",
       "3         Greenwood Ave & 47th St   TA1308000002  \n",
       "4         Greenwood Ave & 47th St   TA1308000002  "
      ]
     },
     "execution_count": 38,
     "metadata": {},
     "output_type": "execute_result"
    }
   ],
   "source": [
    "stations = files[['ride_id','start_station_name','start_station_id','end_station_name','end_station_id']]\n",
    "stations.dropna(inplace = True)\n",
    "stations.head()"
   ]
  },
  {
   "cell_type": "code",
   "execution_count": 40,
   "id": "15837526-3e03-4f6e-88c5-9151e71e21a3",
   "metadata": {},
   "outputs": [
    {
     "data": {
      "text/plain": [
       "ride_id               0\n",
       "start_station_name    0\n",
       "start_station_id      0\n",
       "end_station_name      0\n",
       "end_station_id        0\n",
       "dtype: int64"
      ]
     },
     "execution_count": 40,
     "metadata": {},
     "output_type": "execute_result"
    }
   ],
   "source": [
    "stations.isnull().sum()"
   ]
  },
  {
   "cell_type": "code",
   "execution_count": 43,
   "id": "8ce9ba26-191a-4895-b4ee-80182b0feee2",
   "metadata": {},
   "outputs": [
    {
     "data": {
      "text/html": [
       "<div>\n",
       "<style scoped>\n",
       "    .dataframe tbody tr th:only-of-type {\n",
       "        vertical-align: middle;\n",
       "    }\n",
       "\n",
       "    .dataframe tbody tr th {\n",
       "        vertical-align: top;\n",
       "    }\n",
       "\n",
       "    .dataframe thead th {\n",
       "        text-align: right;\n",
       "    }\n",
       "</style>\n",
       "<table border=\"1\" class=\"dataframe\">\n",
       "  <thead>\n",
       "    <tr style=\"text-align: right;\">\n",
       "      <th></th>\n",
       "      <th>ride_id</th>\n",
       "      <th>rideable_type</th>\n",
       "      <th>started_at</th>\n",
       "      <th>ended_at</th>\n",
       "      <th>member_casual</th>\n",
       "    </tr>\n",
       "  </thead>\n",
       "  <tbody>\n",
       "    <tr>\n",
       "      <th>0</th>\n",
       "      <td>F96D5A74A3E41399</td>\n",
       "      <td>electric_bike</td>\n",
       "      <td>2023-01-21 20:05:42</td>\n",
       "      <td>2023-01-21 20:16:33</td>\n",
       "      <td>member</td>\n",
       "    </tr>\n",
       "    <tr>\n",
       "      <th>1</th>\n",
       "      <td>13CB7EB698CEDB88</td>\n",
       "      <td>classic_bike</td>\n",
       "      <td>2023-01-10 15:37:36</td>\n",
       "      <td>2023-01-10 15:46:05</td>\n",
       "      <td>member</td>\n",
       "    </tr>\n",
       "    <tr>\n",
       "      <th>2</th>\n",
       "      <td>BD88A2E670661CE5</td>\n",
       "      <td>electric_bike</td>\n",
       "      <td>2023-01-02 07:51:57</td>\n",
       "      <td>2023-01-02 08:05:11</td>\n",
       "      <td>casual</td>\n",
       "    </tr>\n",
       "    <tr>\n",
       "      <th>3</th>\n",
       "      <td>C90792D034FED968</td>\n",
       "      <td>classic_bike</td>\n",
       "      <td>2023-01-22 10:52:58</td>\n",
       "      <td>2023-01-22 11:01:44</td>\n",
       "      <td>member</td>\n",
       "    </tr>\n",
       "    <tr>\n",
       "      <th>4</th>\n",
       "      <td>3397017529188E8A</td>\n",
       "      <td>classic_bike</td>\n",
       "      <td>2023-01-12 13:58:01</td>\n",
       "      <td>2023-01-12 14:13:20</td>\n",
       "      <td>member</td>\n",
       "    </tr>\n",
       "  </tbody>\n",
       "</table>\n",
       "</div>"
      ],
      "text/plain": [
       "            ride_id  rideable_type          started_at            ended_at  \\\n",
       "0  F96D5A74A3E41399  electric_bike 2023-01-21 20:05:42 2023-01-21 20:16:33   \n",
       "1  13CB7EB698CEDB88   classic_bike 2023-01-10 15:37:36 2023-01-10 15:46:05   \n",
       "2  BD88A2E670661CE5  electric_bike 2023-01-02 07:51:57 2023-01-02 08:05:11   \n",
       "3  C90792D034FED968   classic_bike 2023-01-22 10:52:58 2023-01-22 11:01:44   \n",
       "4  3397017529188E8A   classic_bike 2023-01-12 13:58:01 2023-01-12 14:13:20   \n",
       "\n",
       "  member_casual  \n",
       "0        member  \n",
       "1        member  \n",
       "2        casual  \n",
       "3        member  \n",
       "4        member  "
      ]
     },
     "execution_count": 43,
     "metadata": {},
     "output_type": "execute_result"
    }
   ],
   "source": [
    "data.head()"
   ]
  },
  {
   "cell_type": "code",
   "execution_count": 44,
   "id": "41215ac4-06d2-4310-bdb3-d618085b8968",
   "metadata": {},
   "outputs": [
    {
     "name": "stderr",
     "output_type": "stream",
     "text": [
      "C:\\Users\\Saikat\\AppData\\Local\\Temp\\ipykernel_6308\\4018335941.py:1: SettingWithCopyWarning: \n",
      "A value is trying to be set on a copy of a slice from a DataFrame.\n",
      "Try using .loc[row_indexer,col_indexer] = value instead\n",
      "\n",
      "See the caveats in the documentation: https://pandas.pydata.org/pandas-docs/stable/user_guide/indexing.html#returning-a-view-versus-a-copy\n",
      "  data['ride_time'] = data['ended_at'] - data['started_at']\n"
     ]
    },
    {
     "data": {
      "text/html": [
       "<div>\n",
       "<style scoped>\n",
       "    .dataframe tbody tr th:only-of-type {\n",
       "        vertical-align: middle;\n",
       "    }\n",
       "\n",
       "    .dataframe tbody tr th {\n",
       "        vertical-align: top;\n",
       "    }\n",
       "\n",
       "    .dataframe thead th {\n",
       "        text-align: right;\n",
       "    }\n",
       "</style>\n",
       "<table border=\"1\" class=\"dataframe\">\n",
       "  <thead>\n",
       "    <tr style=\"text-align: right;\">\n",
       "      <th></th>\n",
       "      <th>ride_id</th>\n",
       "      <th>rideable_type</th>\n",
       "      <th>started_at</th>\n",
       "      <th>ended_at</th>\n",
       "      <th>member_casual</th>\n",
       "      <th>ride_time</th>\n",
       "    </tr>\n",
       "  </thead>\n",
       "  <tbody>\n",
       "    <tr>\n",
       "      <th>0</th>\n",
       "      <td>F96D5A74A3E41399</td>\n",
       "      <td>electric_bike</td>\n",
       "      <td>2023-01-21 20:05:42</td>\n",
       "      <td>2023-01-21 20:16:33</td>\n",
       "      <td>member</td>\n",
       "      <td>0 days 00:10:51</td>\n",
       "    </tr>\n",
       "    <tr>\n",
       "      <th>1</th>\n",
       "      <td>13CB7EB698CEDB88</td>\n",
       "      <td>classic_bike</td>\n",
       "      <td>2023-01-10 15:37:36</td>\n",
       "      <td>2023-01-10 15:46:05</td>\n",
       "      <td>member</td>\n",
       "      <td>0 days 00:08:29</td>\n",
       "    </tr>\n",
       "    <tr>\n",
       "      <th>2</th>\n",
       "      <td>BD88A2E670661CE5</td>\n",
       "      <td>electric_bike</td>\n",
       "      <td>2023-01-02 07:51:57</td>\n",
       "      <td>2023-01-02 08:05:11</td>\n",
       "      <td>casual</td>\n",
       "      <td>0 days 00:13:14</td>\n",
       "    </tr>\n",
       "    <tr>\n",
       "      <th>3</th>\n",
       "      <td>C90792D034FED968</td>\n",
       "      <td>classic_bike</td>\n",
       "      <td>2023-01-22 10:52:58</td>\n",
       "      <td>2023-01-22 11:01:44</td>\n",
       "      <td>member</td>\n",
       "      <td>0 days 00:08:46</td>\n",
       "    </tr>\n",
       "    <tr>\n",
       "      <th>4</th>\n",
       "      <td>3397017529188E8A</td>\n",
       "      <td>classic_bike</td>\n",
       "      <td>2023-01-12 13:58:01</td>\n",
       "      <td>2023-01-12 14:13:20</td>\n",
       "      <td>member</td>\n",
       "      <td>0 days 00:15:19</td>\n",
       "    </tr>\n",
       "  </tbody>\n",
       "</table>\n",
       "</div>"
      ],
      "text/plain": [
       "            ride_id  rideable_type          started_at            ended_at  \\\n",
       "0  F96D5A74A3E41399  electric_bike 2023-01-21 20:05:42 2023-01-21 20:16:33   \n",
       "1  13CB7EB698CEDB88   classic_bike 2023-01-10 15:37:36 2023-01-10 15:46:05   \n",
       "2  BD88A2E670661CE5  electric_bike 2023-01-02 07:51:57 2023-01-02 08:05:11   \n",
       "3  C90792D034FED968   classic_bike 2023-01-22 10:52:58 2023-01-22 11:01:44   \n",
       "4  3397017529188E8A   classic_bike 2023-01-12 13:58:01 2023-01-12 14:13:20   \n",
       "\n",
       "  member_casual       ride_time  \n",
       "0        member 0 days 00:10:51  \n",
       "1        member 0 days 00:08:29  \n",
       "2        casual 0 days 00:13:14  \n",
       "3        member 0 days 00:08:46  \n",
       "4        member 0 days 00:15:19  "
      ]
     },
     "execution_count": 44,
     "metadata": {},
     "output_type": "execute_result"
    }
   ],
   "source": [
    "data['ride_time'] = data['ended_at'] - data['started_at']\n",
    "data.head()"
   ]
  },
  {
   "cell_type": "code",
   "execution_count": 49,
   "id": "5dba16dc-ad91-4ba1-aa08-c7e9dfb9f6bf",
   "metadata": {},
   "outputs": [
    {
     "data": {
      "text/html": [
       "<div>\n",
       "<style scoped>\n",
       "    .dataframe tbody tr th:only-of-type {\n",
       "        vertical-align: middle;\n",
       "    }\n",
       "\n",
       "    .dataframe tbody tr th {\n",
       "        vertical-align: top;\n",
       "    }\n",
       "\n",
       "    .dataframe thead th {\n",
       "        text-align: right;\n",
       "    }\n",
       "</style>\n",
       "<table border=\"1\" class=\"dataframe\">\n",
       "  <thead>\n",
       "    <tr style=\"text-align: right;\">\n",
       "      <th></th>\n",
       "      <th>ride_id</th>\n",
       "      <th>rideable_type</th>\n",
       "      <th>started_at</th>\n",
       "      <th>ended_at</th>\n",
       "      <th>member_casual</th>\n",
       "      <th>ride_time</th>\n",
       "    </tr>\n",
       "  </thead>\n",
       "  <tbody>\n",
       "    <tr>\n",
       "      <th>5362486</th>\n",
       "      <td>F584D47AE67FD388</td>\n",
       "      <td>classic_bike</td>\n",
       "      <td>2023-11-05 21:08:17</td>\n",
       "      <td>2023-10-25 07:31:46</td>\n",
       "      <td>casual</td>\n",
       "      <td>-12 days +10:23:29</td>\n",
       "    </tr>\n",
       "  </tbody>\n",
       "</table>\n",
       "</div>"
      ],
      "text/plain": [
       "                  ride_id rideable_type          started_at  \\\n",
       "5362486  F584D47AE67FD388  classic_bike 2023-11-05 21:08:17   \n",
       "\n",
       "                   ended_at member_casual          ride_time  \n",
       "5362486 2023-10-25 07:31:46        casual -12 days +10:23:29  "
      ]
     },
     "execution_count": 49,
     "metadata": {},
     "output_type": "execute_result"
    }
   ],
   "source": [
    "data[data['ride_time']=='-12 days +10:23:29']"
   ]
  },
  {
   "cell_type": "code",
   "execution_count": 51,
   "id": "6496a7c5-212d-4bf8-ae6a-35bb84d0de28",
   "metadata": {},
   "outputs": [
    {
     "name": "stderr",
     "output_type": "stream",
     "text": [
      "C:\\Users\\Saikat\\AppData\\Local\\Temp\\ipykernel_6308\\3011247744.py:1: SettingWithCopyWarning: \n",
      "A value is trying to be set on a copy of a slice from a DataFrame.\n",
      "Try using .loc[row_indexer,col_indexer] = value instead\n",
      "\n",
      "See the caveats in the documentation: https://pandas.pydata.org/pandas-docs/stable/user_guide/indexing.html#returning-a-view-versus-a-copy\n",
      "  data['ride_time'] = data['ride_time'].astype(str)\n"
     ]
    }
   ],
   "source": [
    "data['ride_time'] = data['ride_time'].astype(str)"
   ]
  },
  {
   "cell_type": "code",
   "execution_count": 68,
   "id": "0d02a48e-b07b-4ebe-b1b9-1994a0ba306c",
   "metadata": {},
   "outputs": [
    {
     "data": {
      "text/plain": [
       "'12'"
      ]
     },
     "execution_count": 68,
     "metadata": {},
     "output_type": "execute_result"
    }
   ],
   "source": [
    "day = pd.DataFrame()\n",
    "day['day'] = data['ride_time'][5362486].split(' ')[0].replace('-','')"
   ]
  },
  {
   "cell_type": "code",
   "execution_count": 67,
   "id": "d6c972a8-2c8c-4479-b423-79a34fe5c406",
   "metadata": {},
   "outputs": [
    {
     "data": {
      "text/plain": [
       "'10:23:29'"
      ]
     },
     "execution_count": 67,
     "metadata": {},
     "output_type": "execute_result"
    }
   ],
   "source": [
    "data['ride_time'][5362486].split(' ')[2].replace('+','')"
   ]
  },
  {
   "cell_type": "code",
   "execution_count": 75,
   "id": "8d8e0fb2-5a6e-4c68-b6c4-56c70a7b7398",
   "metadata": {},
   "outputs": [],
   "source": [
    "def day_count(n):\n",
    "    if n.startswith('-'):\n",
    "        return n.split(' ')[0].replace('-','')\n",
    "    elif n.startswith('+'):\n",
    "        return n.split(' ')[0].replace('+','')\n",
    "    else: return n.split(' ')[0]"
   ]
  },
  {
   "cell_type": "code",
   "execution_count": 76,
   "id": "0d0266ca-89c1-4446-a888-9919dda3277b",
   "metadata": {},
   "outputs": [],
   "source": [
    "day['day'] = data['ride_time'].apply(lambda x: day_count(x))"
   ]
  },
  {
   "cell_type": "code",
   "execution_count": 77,
   "id": "640b9828-7760-4163-ad0e-2adab1bb7ec0",
   "metadata": {},
   "outputs": [
    {
     "data": {
      "text/plain": [
       "0          0\n",
       "1          0\n",
       "2          0\n",
       "3          0\n",
       "4          0\n",
       "          ..\n",
       "5719872    0\n",
       "5719873    0\n",
       "5719874    0\n",
       "5719875    0\n",
       "5719876    0\n",
       "Name: day, Length: 5719877, dtype: object"
      ]
     },
     "execution_count": 77,
     "metadata": {},
     "output_type": "execute_result"
    }
   ],
   "source": [
    "day['day']"
   ]
  },
  {
   "cell_type": "code",
   "execution_count": null,
   "id": "02c070b4-18d7-4eda-9eac-1863ef7f6191",
   "metadata": {},
   "outputs": [],
   "source": []
  },
  {
   "cell_type": "code",
   "execution_count": 81,
   "id": "83f36c9e-048d-43e4-b767-f03a8cd9eed2",
   "metadata": {},
   "outputs": [],
   "source": [
    "def hour_count(n):\n",
    "    if n.split(' ')[2].startswith('-'):\n",
    "        return n.split(' ')[2].replace('-','').split(':')[0]\n",
    "    elif n.split(' ')[2].startswith('+'):\n",
    "        return n.split(' ')[2].replace('+','').split(':')[0]\n",
    "    else: return n.split(' ')[2].split(':')[0]"
   ]
  },
  {
   "cell_type": "code",
   "execution_count": 82,
   "id": "5dd32f25-bd9a-4aba-87cd-e90f523e8037",
   "metadata": {},
   "outputs": [],
   "source": [
    "day['hour'] = data['ride_time'].apply(lambda x: hour_count(x))"
   ]
  },
  {
   "cell_type": "code",
   "execution_count": 84,
   "id": "20fbf567-43b5-4ee5-afa8-a654b16545f3",
   "metadata": {},
   "outputs": [],
   "source": [
    "def min_count(n):\n",
    "    return n.split(' ')[2].split(':')[1]"
   ]
  },
  {
   "cell_type": "code",
   "execution_count": 85,
   "id": "c39a227e-aa4b-48aa-90db-51d132972da2",
   "metadata": {},
   "outputs": [],
   "source": [
    "day['min'] = data['ride_time'].apply(lambda x: min_count(x))"
   ]
  },
  {
   "cell_type": "code",
   "execution_count": 87,
   "id": "e934940b-39bb-432f-9e33-e86ee6c23371",
   "metadata": {},
   "outputs": [],
   "source": [
    "def sec_count(n):\n",
    "    return n.split(' ')[2].split(':')[2]"
   ]
  },
  {
   "cell_type": "code",
   "execution_count": 88,
   "id": "3cfd9806-d97e-4b15-a7f3-609f1c987e3b",
   "metadata": {},
   "outputs": [],
   "source": [
    "day['sec'] = data['ride_time'].apply(lambda x: sec_count(x))"
   ]
  },
  {
   "cell_type": "code",
   "execution_count": 91,
   "id": "a02d3d9f-d1c3-4624-beb4-29377e5395e9",
   "metadata": {},
   "outputs": [
    {
     "data": {
      "text/plain": [
       "'10'"
      ]
     },
     "execution_count": 91,
     "metadata": {},
     "output_type": "execute_result"
    }
   ],
   "source": [
    "day['hour'][5362486]"
   ]
  },
  {
   "cell_type": "code",
   "execution_count": 95,
   "id": "038d5474-98df-4ab6-ae7c-e92091a0bbd5",
   "metadata": {},
   "outputs": [
    {
     "name": "stderr",
     "output_type": "stream",
     "text": [
      "C:\\Users\\Saikat\\AppData\\Local\\Temp\\ipykernel_6308\\973411653.py:1: SettingWithCopyWarning: \n",
      "A value is trying to be set on a copy of a slice from a DataFrame.\n",
      "Try using .loc[row_indexer,col_indexer] = value instead\n",
      "\n",
      "See the caveats in the documentation: https://pandas.pydata.org/pandas-docs/stable/user_guide/indexing.html#returning-a-view-versus-a-copy\n",
      "  data['day'] = day['day']\n",
      "C:\\Users\\Saikat\\AppData\\Local\\Temp\\ipykernel_6308\\973411653.py:2: SettingWithCopyWarning: \n",
      "A value is trying to be set on a copy of a slice from a DataFrame.\n",
      "Try using .loc[row_indexer,col_indexer] = value instead\n",
      "\n",
      "See the caveats in the documentation: https://pandas.pydata.org/pandas-docs/stable/user_guide/indexing.html#returning-a-view-versus-a-copy\n",
      "  data['hour'] = day['hour']\n",
      "C:\\Users\\Saikat\\AppData\\Local\\Temp\\ipykernel_6308\\973411653.py:3: SettingWithCopyWarning: \n",
      "A value is trying to be set on a copy of a slice from a DataFrame.\n",
      "Try using .loc[row_indexer,col_indexer] = value instead\n",
      "\n",
      "See the caveats in the documentation: https://pandas.pydata.org/pandas-docs/stable/user_guide/indexing.html#returning-a-view-versus-a-copy\n",
      "  data['min'] = day['min']\n",
      "C:\\Users\\Saikat\\AppData\\Local\\Temp\\ipykernel_6308\\973411653.py:4: SettingWithCopyWarning: \n",
      "A value is trying to be set on a copy of a slice from a DataFrame.\n",
      "Try using .loc[row_indexer,col_indexer] = value instead\n",
      "\n",
      "See the caveats in the documentation: https://pandas.pydata.org/pandas-docs/stable/user_guide/indexing.html#returning-a-view-versus-a-copy\n",
      "  data['sec'] = day['sec']\n"
     ]
    }
   ],
   "source": [
    "data['day'] = day['day']\n",
    "data['hour'] = day['hour']\n",
    "data['min'] = day['min']\n",
    "data['sec'] = day['sec']"
   ]
  },
  {
   "cell_type": "code",
   "execution_count": 96,
   "id": "0d7b778f-7d84-45fb-8e8b-2009db0e0162",
   "metadata": {},
   "outputs": [
    {
     "data": {
      "text/html": [
       "<div>\n",
       "<style scoped>\n",
       "    .dataframe tbody tr th:only-of-type {\n",
       "        vertical-align: middle;\n",
       "    }\n",
       "\n",
       "    .dataframe tbody tr th {\n",
       "        vertical-align: top;\n",
       "    }\n",
       "\n",
       "    .dataframe thead th {\n",
       "        text-align: right;\n",
       "    }\n",
       "</style>\n",
       "<table border=\"1\" class=\"dataframe\">\n",
       "  <thead>\n",
       "    <tr style=\"text-align: right;\">\n",
       "      <th></th>\n",
       "      <th>ride_id</th>\n",
       "      <th>rideable_type</th>\n",
       "      <th>started_at</th>\n",
       "      <th>ended_at</th>\n",
       "      <th>member_casual</th>\n",
       "      <th>ride_time</th>\n",
       "      <th>day</th>\n",
       "      <th>hour</th>\n",
       "      <th>min</th>\n",
       "      <th>sec</th>\n",
       "    </tr>\n",
       "  </thead>\n",
       "  <tbody>\n",
       "    <tr>\n",
       "      <th>0</th>\n",
       "      <td>F96D5A74A3E41399</td>\n",
       "      <td>electric_bike</td>\n",
       "      <td>2023-01-21 20:05:42</td>\n",
       "      <td>2023-01-21 20:16:33</td>\n",
       "      <td>member</td>\n",
       "      <td>0 days 00:10:51</td>\n",
       "      <td>0</td>\n",
       "      <td>00</td>\n",
       "      <td>10</td>\n",
       "      <td>51</td>\n",
       "    </tr>\n",
       "    <tr>\n",
       "      <th>1</th>\n",
       "      <td>13CB7EB698CEDB88</td>\n",
       "      <td>classic_bike</td>\n",
       "      <td>2023-01-10 15:37:36</td>\n",
       "      <td>2023-01-10 15:46:05</td>\n",
       "      <td>member</td>\n",
       "      <td>0 days 00:08:29</td>\n",
       "      <td>0</td>\n",
       "      <td>00</td>\n",
       "      <td>08</td>\n",
       "      <td>29</td>\n",
       "    </tr>\n",
       "    <tr>\n",
       "      <th>2</th>\n",
       "      <td>BD88A2E670661CE5</td>\n",
       "      <td>electric_bike</td>\n",
       "      <td>2023-01-02 07:51:57</td>\n",
       "      <td>2023-01-02 08:05:11</td>\n",
       "      <td>casual</td>\n",
       "      <td>0 days 00:13:14</td>\n",
       "      <td>0</td>\n",
       "      <td>00</td>\n",
       "      <td>13</td>\n",
       "      <td>14</td>\n",
       "    </tr>\n",
       "    <tr>\n",
       "      <th>3</th>\n",
       "      <td>C90792D034FED968</td>\n",
       "      <td>classic_bike</td>\n",
       "      <td>2023-01-22 10:52:58</td>\n",
       "      <td>2023-01-22 11:01:44</td>\n",
       "      <td>member</td>\n",
       "      <td>0 days 00:08:46</td>\n",
       "      <td>0</td>\n",
       "      <td>00</td>\n",
       "      <td>08</td>\n",
       "      <td>46</td>\n",
       "    </tr>\n",
       "    <tr>\n",
       "      <th>4</th>\n",
       "      <td>3397017529188E8A</td>\n",
       "      <td>classic_bike</td>\n",
       "      <td>2023-01-12 13:58:01</td>\n",
       "      <td>2023-01-12 14:13:20</td>\n",
       "      <td>member</td>\n",
       "      <td>0 days 00:15:19</td>\n",
       "      <td>0</td>\n",
       "      <td>00</td>\n",
       "      <td>15</td>\n",
       "      <td>19</td>\n",
       "    </tr>\n",
       "    <tr>\n",
       "      <th>...</th>\n",
       "      <td>...</td>\n",
       "      <td>...</td>\n",
       "      <td>...</td>\n",
       "      <td>...</td>\n",
       "      <td>...</td>\n",
       "      <td>...</td>\n",
       "      <td>...</td>\n",
       "      <td>...</td>\n",
       "      <td>...</td>\n",
       "      <td>...</td>\n",
       "    </tr>\n",
       "    <tr>\n",
       "      <th>5719872</th>\n",
       "      <td>F74DF9549B504A6B</td>\n",
       "      <td>electric_bike</td>\n",
       "      <td>2023-12-07 13:15:24</td>\n",
       "      <td>2023-12-07 13:17:37</td>\n",
       "      <td>casual</td>\n",
       "      <td>0 days 00:02:13</td>\n",
       "      <td>0</td>\n",
       "      <td>00</td>\n",
       "      <td>02</td>\n",
       "      <td>13</td>\n",
       "    </tr>\n",
       "    <tr>\n",
       "      <th>5719873</th>\n",
       "      <td>BCDA66E761CC1029</td>\n",
       "      <td>classic_bike</td>\n",
       "      <td>2023-12-08 18:42:21</td>\n",
       "      <td>2023-12-08 18:45:56</td>\n",
       "      <td>casual</td>\n",
       "      <td>0 days 00:03:35</td>\n",
       "      <td>0</td>\n",
       "      <td>00</td>\n",
       "      <td>03</td>\n",
       "      <td>35</td>\n",
       "    </tr>\n",
       "    <tr>\n",
       "      <th>5719874</th>\n",
       "      <td>D2CF330F9C266683</td>\n",
       "      <td>classic_bike</td>\n",
       "      <td>2023-12-05 14:09:11</td>\n",
       "      <td>2023-12-05 14:13:01</td>\n",
       "      <td>member</td>\n",
       "      <td>0 days 00:03:50</td>\n",
       "      <td>0</td>\n",
       "      <td>00</td>\n",
       "      <td>03</td>\n",
       "      <td>50</td>\n",
       "    </tr>\n",
       "    <tr>\n",
       "      <th>5719875</th>\n",
       "      <td>3829A0D1E00EE970</td>\n",
       "      <td>electric_bike</td>\n",
       "      <td>2023-12-02 21:36:07</td>\n",
       "      <td>2023-12-02 21:53:45</td>\n",
       "      <td>casual</td>\n",
       "      <td>0 days 00:17:38</td>\n",
       "      <td>0</td>\n",
       "      <td>00</td>\n",
       "      <td>17</td>\n",
       "      <td>38</td>\n",
       "    </tr>\n",
       "    <tr>\n",
       "      <th>5719876</th>\n",
       "      <td>A373F5B447AEA508</td>\n",
       "      <td>classic_bike</td>\n",
       "      <td>2023-12-11 13:07:46</td>\n",
       "      <td>2023-12-11 13:11:24</td>\n",
       "      <td>member</td>\n",
       "      <td>0 days 00:03:38</td>\n",
       "      <td>0</td>\n",
       "      <td>00</td>\n",
       "      <td>03</td>\n",
       "      <td>38</td>\n",
       "    </tr>\n",
       "  </tbody>\n",
       "</table>\n",
       "<p>5719877 rows × 10 columns</p>\n",
       "</div>"
      ],
      "text/plain": [
       "                  ride_id  rideable_type          started_at  \\\n",
       "0        F96D5A74A3E41399  electric_bike 2023-01-21 20:05:42   \n",
       "1        13CB7EB698CEDB88   classic_bike 2023-01-10 15:37:36   \n",
       "2        BD88A2E670661CE5  electric_bike 2023-01-02 07:51:57   \n",
       "3        C90792D034FED968   classic_bike 2023-01-22 10:52:58   \n",
       "4        3397017529188E8A   classic_bike 2023-01-12 13:58:01   \n",
       "...                   ...            ...                 ...   \n",
       "5719872  F74DF9549B504A6B  electric_bike 2023-12-07 13:15:24   \n",
       "5719873  BCDA66E761CC1029   classic_bike 2023-12-08 18:42:21   \n",
       "5719874  D2CF330F9C266683   classic_bike 2023-12-05 14:09:11   \n",
       "5719875  3829A0D1E00EE970  electric_bike 2023-12-02 21:36:07   \n",
       "5719876  A373F5B447AEA508   classic_bike 2023-12-11 13:07:46   \n",
       "\n",
       "                   ended_at member_casual        ride_time day hour min sec  \n",
       "0       2023-01-21 20:16:33        member  0 days 00:10:51   0   00  10  51  \n",
       "1       2023-01-10 15:46:05        member  0 days 00:08:29   0   00  08  29  \n",
       "2       2023-01-02 08:05:11        casual  0 days 00:13:14   0   00  13  14  \n",
       "3       2023-01-22 11:01:44        member  0 days 00:08:46   0   00  08  46  \n",
       "4       2023-01-12 14:13:20        member  0 days 00:15:19   0   00  15  19  \n",
       "...                     ...           ...              ...  ..  ...  ..  ..  \n",
       "5719872 2023-12-07 13:17:37        casual  0 days 00:02:13   0   00  02  13  \n",
       "5719873 2023-12-08 18:45:56        casual  0 days 00:03:35   0   00  03  35  \n",
       "5719874 2023-12-05 14:13:01        member  0 days 00:03:50   0   00  03  50  \n",
       "5719875 2023-12-02 21:53:45        casual  0 days 00:17:38   0   00  17  38  \n",
       "5719876 2023-12-11 13:11:24        member  0 days 00:03:38   0   00  03  38  \n",
       "\n",
       "[5719877 rows x 10 columns]"
      ]
     },
     "execution_count": 96,
     "metadata": {},
     "output_type": "execute_result"
    }
   ],
   "source": [
    "data"
   ]
  },
  {
   "cell_type": "code",
   "execution_count": 102,
   "id": "464beda8-cb25-4dd1-944d-bbdd0b855df0",
   "metadata": {},
   "outputs": [
    {
     "name": "stderr",
     "output_type": "stream",
     "text": [
      "C:\\Users\\Saikat\\AppData\\Local\\Temp\\ipykernel_6308\\987525795.py:1: SettingWithCopyWarning: \n",
      "A value is trying to be set on a copy of a slice from a DataFrame.\n",
      "Try using .loc[row_indexer,col_indexer] = value instead\n",
      "\n",
      "See the caveats in the documentation: https://pandas.pydata.org/pandas-docs/stable/user_guide/indexing.html#returning-a-view-versus-a-copy\n",
      "  data['day'] = data['day'].astype(int)\n",
      "C:\\Users\\Saikat\\AppData\\Local\\Temp\\ipykernel_6308\\987525795.py:2: SettingWithCopyWarning: \n",
      "A value is trying to be set on a copy of a slice from a DataFrame.\n",
      "Try using .loc[row_indexer,col_indexer] = value instead\n",
      "\n",
      "See the caveats in the documentation: https://pandas.pydata.org/pandas-docs/stable/user_guide/indexing.html#returning-a-view-versus-a-copy\n",
      "  data['hour'] = data['hour'].astype(int)\n",
      "C:\\Users\\Saikat\\AppData\\Local\\Temp\\ipykernel_6308\\987525795.py:3: SettingWithCopyWarning: \n",
      "A value is trying to be set on a copy of a slice from a DataFrame.\n",
      "Try using .loc[row_indexer,col_indexer] = value instead\n",
      "\n",
      "See the caveats in the documentation: https://pandas.pydata.org/pandas-docs/stable/user_guide/indexing.html#returning-a-view-versus-a-copy\n",
      "  data['min'] = data['min'].astype(int)\n",
      "C:\\Users\\Saikat\\AppData\\Local\\Temp\\ipykernel_6308\\987525795.py:4: SettingWithCopyWarning: \n",
      "A value is trying to be set on a copy of a slice from a DataFrame.\n",
      "Try using .loc[row_indexer,col_indexer] = value instead\n",
      "\n",
      "See the caveats in the documentation: https://pandas.pydata.org/pandas-docs/stable/user_guide/indexing.html#returning-a-view-versus-a-copy\n",
      "  data['sec'] = data['sec'].astype(int)\n"
     ]
    },
    {
     "data": {
      "text/plain": [
       "ride_id                  object\n",
       "rideable_type          category\n",
       "started_at       datetime64[ns]\n",
       "ended_at         datetime64[ns]\n",
       "member_casual          category\n",
       "ride_time                object\n",
       "day                       int32\n",
       "hour                      int32\n",
       "min                       int32\n",
       "sec                       int32\n",
       "dtype: object"
      ]
     },
     "execution_count": 102,
     "metadata": {},
     "output_type": "execute_result"
    }
   ],
   "source": [
    "data['day'] = data['day'].astype(int)\n",
    "data['hour'] = data['hour'].astype(int)\n",
    "data['min'] = data['min'].astype(int)\n",
    "data['sec'] = data['sec'].astype(int)\n",
    "data.dtypes"
   ]
  },
  {
   "cell_type": "code",
   "execution_count": 107,
   "id": "81a8c6f8-65c7-45eb-a377-49b5dfe0c3a3",
   "metadata": {},
   "outputs": [
    {
     "data": {
      "text/html": [
       "<div>\n",
       "<style scoped>\n",
       "    .dataframe tbody tr th:only-of-type {\n",
       "        vertical-align: middle;\n",
       "    }\n",
       "\n",
       "    .dataframe tbody tr th {\n",
       "        vertical-align: top;\n",
       "    }\n",
       "\n",
       "    .dataframe thead th {\n",
       "        text-align: right;\n",
       "    }\n",
       "</style>\n",
       "<table border=\"1\" class=\"dataframe\">\n",
       "  <thead>\n",
       "    <tr style=\"text-align: right;\">\n",
       "      <th></th>\n",
       "      <th>ride_id</th>\n",
       "      <th>rideable_type</th>\n",
       "      <th>started_at</th>\n",
       "      <th>ended_at</th>\n",
       "      <th>member_casual</th>\n",
       "      <th>ride_time</th>\n",
       "      <th>day</th>\n",
       "      <th>hour</th>\n",
       "      <th>min</th>\n",
       "      <th>sec</th>\n",
       "    </tr>\n",
       "  </thead>\n",
       "  <tbody>\n",
       "    <tr>\n",
       "      <th>0</th>\n",
       "      <td>F96D5A74A3E41399</td>\n",
       "      <td>electric_bike</td>\n",
       "      <td>2023-01-21 20:05:42</td>\n",
       "      <td>2023-01-21 20:16:33</td>\n",
       "      <td>member</td>\n",
       "      <td>0 days 00:10:51</td>\n",
       "      <td>0</td>\n",
       "      <td>0</td>\n",
       "      <td>10</td>\n",
       "      <td>51</td>\n",
       "    </tr>\n",
       "    <tr>\n",
       "      <th>1</th>\n",
       "      <td>13CB7EB698CEDB88</td>\n",
       "      <td>classic_bike</td>\n",
       "      <td>2023-01-10 15:37:36</td>\n",
       "      <td>2023-01-10 15:46:05</td>\n",
       "      <td>member</td>\n",
       "      <td>0 days 00:08:29</td>\n",
       "      <td>0</td>\n",
       "      <td>0</td>\n",
       "      <td>8</td>\n",
       "      <td>29</td>\n",
       "    </tr>\n",
       "    <tr>\n",
       "      <th>2</th>\n",
       "      <td>BD88A2E670661CE5</td>\n",
       "      <td>electric_bike</td>\n",
       "      <td>2023-01-02 07:51:57</td>\n",
       "      <td>2023-01-02 08:05:11</td>\n",
       "      <td>casual</td>\n",
       "      <td>0 days 00:13:14</td>\n",
       "      <td>0</td>\n",
       "      <td>0</td>\n",
       "      <td>13</td>\n",
       "      <td>14</td>\n",
       "    </tr>\n",
       "    <tr>\n",
       "      <th>3</th>\n",
       "      <td>C90792D034FED968</td>\n",
       "      <td>classic_bike</td>\n",
       "      <td>2023-01-22 10:52:58</td>\n",
       "      <td>2023-01-22 11:01:44</td>\n",
       "      <td>member</td>\n",
       "      <td>0 days 00:08:46</td>\n",
       "      <td>0</td>\n",
       "      <td>0</td>\n",
       "      <td>8</td>\n",
       "      <td>46</td>\n",
       "    </tr>\n",
       "    <tr>\n",
       "      <th>4</th>\n",
       "      <td>3397017529188E8A</td>\n",
       "      <td>classic_bike</td>\n",
       "      <td>2023-01-12 13:58:01</td>\n",
       "      <td>2023-01-12 14:13:20</td>\n",
       "      <td>member</td>\n",
       "      <td>0 days 00:15:19</td>\n",
       "      <td>0</td>\n",
       "      <td>0</td>\n",
       "      <td>15</td>\n",
       "      <td>19</td>\n",
       "    </tr>\n",
       "  </tbody>\n",
       "</table>\n",
       "</div>"
      ],
      "text/plain": [
       "            ride_id  rideable_type          started_at            ended_at  \\\n",
       "0  F96D5A74A3E41399  electric_bike 2023-01-21 20:05:42 2023-01-21 20:16:33   \n",
       "1  13CB7EB698CEDB88   classic_bike 2023-01-10 15:37:36 2023-01-10 15:46:05   \n",
       "2  BD88A2E670661CE5  electric_bike 2023-01-02 07:51:57 2023-01-02 08:05:11   \n",
       "3  C90792D034FED968   classic_bike 2023-01-22 10:52:58 2023-01-22 11:01:44   \n",
       "4  3397017529188E8A   classic_bike 2023-01-12 13:58:01 2023-01-12 14:13:20   \n",
       "\n",
       "  member_casual        ride_time  day  hour  min  sec  \n",
       "0        member  0 days 00:10:51    0     0   10   51  \n",
       "1        member  0 days 00:08:29    0     0    8   29  \n",
       "2        casual  0 days 00:13:14    0     0   13   14  \n",
       "3        member  0 days 00:08:46    0     0    8   46  \n",
       "4        member  0 days 00:15:19    0     0   15   19  "
      ]
     },
     "execution_count": 107,
     "metadata": {},
     "output_type": "execute_result"
    }
   ],
   "source": [
    "data.head()"
   ]
  },
  {
   "cell_type": "code",
   "execution_count": 108,
   "id": "b869f8df-9bfd-4f79-bd6a-43027b424bbe",
   "metadata": {},
   "outputs": [],
   "source": [
    "import datetime as dt"
   ]
  },
  {
   "cell_type": "code",
   "execution_count": 111,
   "id": "ca541a0e-026c-4aac-9fe8-86e89fa10cb5",
   "metadata": {},
   "outputs": [
    {
     "name": "stderr",
     "output_type": "stream",
     "text": [
      "C:\\Users\\Saikat\\AppData\\Local\\Temp\\ipykernel_6308\\3663896751.py:1: SettingWithCopyWarning: \n",
      "A value is trying to be set on a copy of a slice from a DataFrame.\n",
      "Try using .loc[row_indexer,col_indexer] = value instead\n",
      "\n",
      "See the caveats in the documentation: https://pandas.pydata.org/pandas-docs/stable/user_guide/indexing.html#returning-a-view-versus-a-copy\n",
      "  data['month'] = data['started_at'].dt.month_name()\n"
     ]
    }
   ],
   "source": [
    "data['month'] = data['started_at'].dt.month_name()"
   ]
  },
  {
   "cell_type": "code",
   "execution_count": 202,
   "id": "c4c59be2-eb95-42b1-a21f-677f1416d058",
   "metadata": {},
   "outputs": [
    {
     "name": "stderr",
     "output_type": "stream",
     "text": [
      "C:\\Users\\Saikat\\AppData\\Local\\Temp\\ipykernel_6308\\2453334590.py:1: SettingWithCopyWarning: \n",
      "A value is trying to be set on a copy of a slice from a DataFrame.\n",
      "Try using .loc[row_indexer,col_indexer] = value instead\n",
      "\n",
      "See the caveats in the documentation: https://pandas.pydata.org/pandas-docs/stable/user_guide/indexing.html#returning-a-view-versus-a-copy\n",
      "  data['day_name'] = data['started_at'].dt.day_name()\n"
     ]
    }
   ],
   "source": [
    "data['day_name'] = data['started_at'].dt.day_name()"
   ]
  },
  {
   "cell_type": "code",
   "execution_count": 119,
   "id": "619ae4c5-a213-4cea-947c-396e6198492a",
   "metadata": {},
   "outputs": [
    {
     "name": "stderr",
     "output_type": "stream",
     "text": [
      "C:\\Users\\Saikat\\AppData\\Local\\Temp\\ipykernel_6308\\3487915601.py:1: SettingWithCopyWarning: \n",
      "A value is trying to be set on a copy of a slice from a DataFrame\n",
      "\n",
      "See the caveats in the documentation: https://pandas.pydata.org/pandas-docs/stable/user_guide/indexing.html#returning-a-view-versus-a-copy\n",
      "  data.sort_values('started_at', inplace = True)\n"
     ]
    }
   ],
   "source": [
    "data.sort_values('started_at', inplace = True)"
   ]
  },
  {
   "cell_type": "code",
   "execution_count": 122,
   "id": "4b60cb3b-8c20-4868-a0f2-34332e2f38e4",
   "metadata": {},
   "outputs": [
    {
     "data": {
      "text/plain": [
       "ride_id          5719877\n",
       "rideable_type          3\n",
       "started_at       4823909\n",
       "ended_at         4835702\n",
       "member_casual          2\n",
       "ride_time          23070\n",
       "day                   40\n",
       "hour                  24\n",
       "min                   60\n",
       "sec                   60\n",
       "month                 12\n",
       "day_name               7\n",
       "dtype: int64"
      ]
     },
     "execution_count": 122,
     "metadata": {},
     "output_type": "execute_result"
    }
   ],
   "source": [
    "data.nunique()"
   ]
  },
  {
   "cell_type": "code",
   "execution_count": 204,
   "id": "ee8bbb5f-d001-4fed-a2a8-e07142cc7bec",
   "metadata": {},
   "outputs": [
    {
     "name": "stderr",
     "output_type": "stream",
     "text": [
      "C:\\Users\\Saikat\\AppData\\Local\\Temp\\ipykernel_6308\\3721196025.py:1: SettingWithCopyWarning: \n",
      "A value is trying to be set on a copy of a slice from a DataFrame.\n",
      "Try using .loc[row_indexer,col_indexer] = value instead\n",
      "\n",
      "See the caveats in the documentation: https://pandas.pydata.org/pandas-docs/stable/user_guide/indexing.html#returning-a-view-versus-a-copy\n",
      "  data['month'] = data['month'].astype('category')\n",
      "C:\\Users\\Saikat\\AppData\\Local\\Temp\\ipykernel_6308\\3721196025.py:2: SettingWithCopyWarning: \n",
      "A value is trying to be set on a copy of a slice from a DataFrame.\n",
      "Try using .loc[row_indexer,col_indexer] = value instead\n",
      "\n",
      "See the caveats in the documentation: https://pandas.pydata.org/pandas-docs/stable/user_guide/indexing.html#returning-a-view-versus-a-copy\n",
      "  data['day_name'] = data['day_name'].astype('category')\n"
     ]
    }
   ],
   "source": [
    "data['month'] = data['month'].astype('category')\n",
    "data['day_name'] = data['day_name'].astype('category')"
   ]
  },
  {
   "cell_type": "code",
   "execution_count": 205,
   "id": "aeef739d-7117-449c-b58a-622fa28b215b",
   "metadata": {},
   "outputs": [
    {
     "name": "stdout",
     "output_type": "stream",
     "text": [
      "<class 'pandas.core.frame.DataFrame'>\n",
      "Index: 5719877 entries, 80659 to 5600722\n",
      "Data columns (total 12 columns):\n",
      " #   Column         Dtype         \n",
      "---  ------         -----         \n",
      " 0   ride_id        object        \n",
      " 1   rideable_type  category      \n",
      " 2   started_at     datetime64[ns]\n",
      " 3   ended_at       datetime64[ns]\n",
      " 4   member_casual  category      \n",
      " 5   ride_time      object        \n",
      " 6   day            int32         \n",
      " 7   hour           int32         \n",
      " 8   min            int32         \n",
      " 9   sec            int32         \n",
      " 10  month          category      \n",
      " 11  day_name       category      \n",
      "dtypes: category(4), datetime64[ns](2), int32(4), object(2)\n",
      "memory usage: 327.3+ MB\n"
     ]
    }
   ],
   "source": [
    "data.info()"
   ]
  },
  {
   "cell_type": "code",
   "execution_count": 206,
   "id": "0997aaa8-c373-4c04-b0df-863794cd27f2",
   "metadata": {},
   "outputs": [
    {
     "data": {
      "text/html": [
       "<div>\n",
       "<style scoped>\n",
       "    .dataframe tbody tr th:only-of-type {\n",
       "        vertical-align: middle;\n",
       "    }\n",
       "\n",
       "    .dataframe tbody tr th {\n",
       "        vertical-align: top;\n",
       "    }\n",
       "\n",
       "    .dataframe thead th {\n",
       "        text-align: right;\n",
       "    }\n",
       "</style>\n",
       "<table border=\"1\" class=\"dataframe\">\n",
       "  <thead>\n",
       "    <tr style=\"text-align: right;\">\n",
       "      <th></th>\n",
       "      <th>ride_id</th>\n",
       "      <th>rideable_type</th>\n",
       "      <th>started_at</th>\n",
       "      <th>ended_at</th>\n",
       "      <th>member_casual</th>\n",
       "      <th>ride_time</th>\n",
       "      <th>day</th>\n",
       "      <th>hour</th>\n",
       "      <th>min</th>\n",
       "      <th>sec</th>\n",
       "      <th>month</th>\n",
       "      <th>day_name</th>\n",
       "    </tr>\n",
       "  </thead>\n",
       "  <tbody>\n",
       "    <tr>\n",
       "      <th>80659</th>\n",
       "      <td>53F0F248F28485D2</td>\n",
       "      <td>electric_bike</td>\n",
       "      <td>2023-01-01 00:01:58</td>\n",
       "      <td>2023-01-01 00:02:41</td>\n",
       "      <td>casual</td>\n",
       "      <td>0 days 00:00:43</td>\n",
       "      <td>0</td>\n",
       "      <td>0</td>\n",
       "      <td>0</td>\n",
       "      <td>43</td>\n",
       "      <td>January</td>\n",
       "      <td>Sunday</td>\n",
       "    </tr>\n",
       "    <tr>\n",
       "      <th>189816</th>\n",
       "      <td>D8EEE72183269F07</td>\n",
       "      <td>classic_bike</td>\n",
       "      <td>2023-01-01 00:02:06</td>\n",
       "      <td>2023-01-01 00:29:46</td>\n",
       "      <td>member</td>\n",
       "      <td>0 days 00:27:40</td>\n",
       "      <td>0</td>\n",
       "      <td>0</td>\n",
       "      <td>27</td>\n",
       "      <td>40</td>\n",
       "      <td>January</td>\n",
       "      <td>Sunday</td>\n",
       "    </tr>\n",
       "    <tr>\n",
       "      <th>185198</th>\n",
       "      <td>E5AD797A579842F8</td>\n",
       "      <td>electric_bike</td>\n",
       "      <td>2023-01-01 00:03:26</td>\n",
       "      <td>2023-01-01 00:07:23</td>\n",
       "      <td>casual</td>\n",
       "      <td>0 days 00:03:57</td>\n",
       "      <td>0</td>\n",
       "      <td>0</td>\n",
       "      <td>3</td>\n",
       "      <td>57</td>\n",
       "      <td>January</td>\n",
       "      <td>Sunday</td>\n",
       "    </tr>\n",
       "    <tr>\n",
       "      <th>106410</th>\n",
       "      <td>8FBD2AD70B0F6A6F</td>\n",
       "      <td>classic_bike</td>\n",
       "      <td>2023-01-01 00:04:07</td>\n",
       "      <td>2023-01-01 00:13:56</td>\n",
       "      <td>casual</td>\n",
       "      <td>0 days 00:09:49</td>\n",
       "      <td>0</td>\n",
       "      <td>0</td>\n",
       "      <td>9</td>\n",
       "      <td>49</td>\n",
       "      <td>January</td>\n",
       "      <td>Sunday</td>\n",
       "    </tr>\n",
       "    <tr>\n",
       "      <th>169407</th>\n",
       "      <td>B05BD052B9EBB767</td>\n",
       "      <td>electric_bike</td>\n",
       "      <td>2023-01-01 00:04:27</td>\n",
       "      <td>2023-01-01 00:16:52</td>\n",
       "      <td>member</td>\n",
       "      <td>0 days 00:12:25</td>\n",
       "      <td>0</td>\n",
       "      <td>0</td>\n",
       "      <td>12</td>\n",
       "      <td>25</td>\n",
       "      <td>January</td>\n",
       "      <td>Sunday</td>\n",
       "    </tr>\n",
       "  </tbody>\n",
       "</table>\n",
       "</div>"
      ],
      "text/plain": [
       "                 ride_id  rideable_type          started_at  \\\n",
       "80659   53F0F248F28485D2  electric_bike 2023-01-01 00:01:58   \n",
       "189816  D8EEE72183269F07   classic_bike 2023-01-01 00:02:06   \n",
       "185198  E5AD797A579842F8  electric_bike 2023-01-01 00:03:26   \n",
       "106410  8FBD2AD70B0F6A6F   classic_bike 2023-01-01 00:04:07   \n",
       "169407  B05BD052B9EBB767  electric_bike 2023-01-01 00:04:27   \n",
       "\n",
       "                  ended_at member_casual        ride_time  day  hour  min  \\\n",
       "80659  2023-01-01 00:02:41        casual  0 days 00:00:43    0     0    0   \n",
       "189816 2023-01-01 00:29:46        member  0 days 00:27:40    0     0   27   \n",
       "185198 2023-01-01 00:07:23        casual  0 days 00:03:57    0     0    3   \n",
       "106410 2023-01-01 00:13:56        casual  0 days 00:09:49    0     0    9   \n",
       "169407 2023-01-01 00:16:52        member  0 days 00:12:25    0     0   12   \n",
       "\n",
       "        sec    month day_name  \n",
       "80659    43  January   Sunday  \n",
       "189816   40  January   Sunday  \n",
       "185198   57  January   Sunday  \n",
       "106410   49  January   Sunday  \n",
       "169407   25  January   Sunday  "
      ]
     },
     "execution_count": 206,
     "metadata": {},
     "output_type": "execute_result"
    }
   ],
   "source": [
    "data.head()"
   ]
  },
  {
   "cell_type": "code",
   "execution_count": 160,
   "id": "ff9ebd5c-15c7-4269-8007-779a9f1a2473",
   "metadata": {},
   "outputs": [],
   "source": [
    "month_wise_rides_counts = data['month'].value_counts(sort= False).to_frame()"
   ]
  },
  {
   "cell_type": "code",
   "execution_count": 157,
   "id": "d3593e95-67f8-4be9-9f2c-1f3aae64a31f",
   "metadata": {},
   "outputs": [],
   "source": [
    "months=['January', 'February', 'March', 'April', 'May', 'June', 'July', 'August', 'September', 'October', 'November', 'December']\n"
   ]
  },
  {
   "cell_type": "code",
   "execution_count": 163,
   "id": "a8994a71-fef9-405d-9750-5f14135c4f3a",
   "metadata": {},
   "outputs": [],
   "source": [
    "month_wise_rides_counts.index=pd.CategoricalIndex(month_wise_rides_counts.index, categories= months, ordered = False)"
   ]
  },
  {
   "cell_type": "code",
   "execution_count": 166,
   "id": "37e46e8e-ed98-4cca-be9e-328fbc5f3822",
   "metadata": {},
   "outputs": [],
   "source": [
    "month_wise_rides_counts = month_wise_rides_counts.sort_index().reset_index()"
   ]
  },
  {
   "cell_type": "code",
   "execution_count": 169,
   "id": "0bef53fe-c017-45de-bdf9-63128d6703ae",
   "metadata": {},
   "outputs": [],
   "source": [
    "month_wise_rides_counts.to_csv(r'C:\\Users\\Saikat\\Desktop\\BA Project\\Cyclistic\\month_wise_rides_counts.csv')"
   ]
  },
  {
   "cell_type": "code",
   "execution_count": 199,
   "id": "ed9b0098-5140-4e0e-9506-2cb59c13dc8c",
   "metadata": {},
   "outputs": [],
   "source": [
    "data[['month','member_casual']].value_counts(sort=False).to_frame().pivot_table(index='month', columns = 'member_casual', values = 'count').to_csv(r'C:\\Users\\Saikat\\Desktop\\BA Project\\Cyclistic\\month_wise_riders_counts.csv')"
   ]
  },
  {
   "cell_type": "code",
   "execution_count": 208,
   "id": "d4fbb002-b2c5-4fbf-b7ca-c9952c5acb7a",
   "metadata": {},
   "outputs": [],
   "source": [
    "data[['day_name','member_casual']].value_counts(sort=False).to_frame().pivot_table(index='day_name', columns = 'member_casual', values = 'count').to_csv(r'C:\\Users\\Saikat\\Desktop\\BA Project\\Cyclistic\\day_wise_riders_counts.csv')"
   ]
  },
  {
   "cell_type": "code",
   "execution_count": 212,
   "id": "8d37dcb5-8137-4795-83ff-a239629352c0",
   "metadata": {},
   "outputs": [],
   "source": [
    "data[['month','rideable_type']].value_counts(sort=False).to_frame().pivot_table(index='month', columns = 'rideable_type', values = 'count').to_csv(r'C:\\Users\\Saikat\\Desktop\\BA Project\\Cyclistic\\month_wise_bike_counts.csv')"
   ]
  },
  {
   "cell_type": "code",
   "execution_count": 218,
   "id": "e2bebd21-1a67-430d-8228-2fab3e08d9cd",
   "metadata": {},
   "outputs": [],
   "source": [
    "data[data['day']>0]['member_casual'].value_counts().to_frame().to_csv(r'C:\\Users\\Saikat\\Desktop\\BA Project\\Cyclistic\\day_wise_riders_counts.csv')"
   ]
  },
  {
   "cell_type": "code",
   "execution_count": 221,
   "id": "73852bbb-46a8-4efb-89b3-a7ff14362de5",
   "metadata": {},
   "outputs": [],
   "source": [
    "data[data['hour']>0]['member_casual'].value_counts().to_frame().to_csv(r'C:\\Users\\Saikat\\Desktop\\BA Project\\Cyclistic\\hour_wise_riders_counts.csv')"
   ]
  },
  {
   "cell_type": "code",
   "execution_count": 222,
   "id": "597e51e8-d6cb-45fd-b9de-4f95f104a487",
   "metadata": {},
   "outputs": [],
   "source": [
    "data[data['min']>0]['member_casual'].value_counts().to_frame().to_csv(r'C:\\Users\\Saikat\\Desktop\\BA Project\\Cyclistic\\min_wise_riders_counts.csv')"
   ]
  },
  {
   "cell_type": "code",
   "execution_count": 223,
   "id": "4f435e75-e1cb-4f6a-b794-8c82cb6adb36",
   "metadata": {},
   "outputs": [],
   "source": [
    "data[data['sec']>0]['member_casual'].value_counts().to_frame().to_csv(r'C:\\Users\\Saikat\\Desktop\\BA Project\\Cyclistic\\sec_wise_riders_counts.csv')"
   ]
  },
  {
   "cell_type": "code",
   "execution_count": 224,
   "id": "f49cd7cf-847c-433c-9d52-5f10f7d2f8f4",
   "metadata": {},
   "outputs": [],
   "source": [
    "data.set_index('ride_id').to_csv(r'C:\\Users\\Saikat\\Desktop\\BA Project\\Cyclistic\\Previous Year Ridings.csv')"
   ]
  },
  {
   "cell_type": "code",
   "execution_count": 225,
   "id": "694f6d13-6714-4259-b0c1-36eb215a2057",
   "metadata": {},
   "outputs": [],
   "source": [
    "stations.set_index('ride_id').to_csv(r'C:\\Users\\Saikat\\Desktop\\BA Project\\Cyclistic\\Previous Year Stations.csv')"
   ]
  },
  {
   "cell_type": "code",
   "execution_count": null,
   "id": "f21d8aab-2892-4af9-9c5b-7c3022beb0c7",
   "metadata": {},
   "outputs": [],
   "source": []
  },
  {
   "cell_type": "code",
   "execution_count": null,
   "id": "7676b304-0e97-469d-add4-ba66ffaa973e",
   "metadata": {},
   "outputs": [],
   "source": []
  },
  {
   "cell_type": "code",
   "execution_count": null,
   "id": "c93de35a-5b7a-4528-ac1f-7f69bf92c29f",
   "metadata": {},
   "outputs": [],
   "source": []
  }
 ],
 "metadata": {
  "kernelspec": {
   "display_name": "Python 3 (ipykernel)",
   "language": "python",
   "name": "python3"
  },
  "language_info": {
   "codemirror_mode": {
    "name": "ipython",
    "version": 3
   },
   "file_extension": ".py",
   "mimetype": "text/x-python",
   "name": "python",
   "nbconvert_exporter": "python",
   "pygments_lexer": "ipython3",
   "version": "3.11.5"
  }
 },
 "nbformat": 4,
 "nbformat_minor": 5
}
